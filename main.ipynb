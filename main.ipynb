{
  "nbformat": 4,
  "nbformat_minor": 0,
  "metadata": {
    "colab": {
      "name": "main.ipynb",
      "provenance": [],
      "collapsed_sections": [],
      "include_colab_link": true
    },
    "kernelspec": {
      "name": "python3",
      "display_name": "Python 3"
    },
    "language_info": {
      "name": "python"
    },
    "accelerator": "GPU"
  },
  "cells": [
    {
      "cell_type": "markdown",
      "metadata": {
        "id": "view-in-github",
        "colab_type": "text"
      },
      "source": [
        "<a href=\"https://colab.research.google.com/github/vincentjordan27/Named-Entity-Recognition-BILSTM-CRF/blob/main/main.ipynb\" target=\"_parent\"><img src=\"https://colab.research.google.com/assets/colab-badge.svg\" alt=\"Open In Colab\"/></a>"
      ]
    },
    {
      "cell_type": "code",
      "metadata": {
        "id": "4zdcbTMiY9pR"
      },
      "source": [
        "import pandas as pd\n",
        "import numpy as np\n",
        "import sys\n",
        "import csv\n",
        "from sklearn.model_selection import train_test_split\n",
        "\n"
      ],
      "execution_count": 1,
      "outputs": []
    },
    {
      "cell_type": "code",
      "metadata": {
        "id": "1e8gd5PtmKMV",
        "colab": {
          "base_uri": "https://localhost:8080/"
        },
        "outputId": "e9a20957-3124-4ee3-931d-62b5cedf3bae"
      },
      "source": [
        "from google.colab import drive\n",
        "drive.mount('/content/drive')"
      ],
      "execution_count": 2,
      "outputs": [
        {
          "output_type": "stream",
          "name": "stdout",
          "text": [
            "Drive already mounted at /content/drive; to attempt to forcibly remount, call drive.mount(\"/content/drive\", force_remount=True).\n"
          ]
        }
      ]
    },
    {
      "cell_type": "code",
      "metadata": {
        "id": "Ok6N_p_Cqav-",
        "colab": {
          "base_uri": "https://localhost:8080/"
        },
        "outputId": "c85da77b-9364-46dd-c2e3-42b0912514cc"
      },
      "source": [
        "!pip install torchtext==0.6.0\n",
        "\n",
        "import time\n",
        "import torch\n",
        "from torch import nn\n",
        "from torch.optim import Adam\n",
        "from torchtext.data import Field, BucketIterator\n",
        "from torchtext.datasets import SequenceTaggingDataset\n",
        "from spacy.lang.id import Indonesian"
      ],
      "execution_count": 3,
      "outputs": [
        {
          "output_type": "stream",
          "name": "stdout",
          "text": [
            "Requirement already satisfied: torchtext==0.6.0 in /usr/local/lib/python3.7/dist-packages (0.6.0)\n",
            "Requirement already satisfied: sentencepiece in /usr/local/lib/python3.7/dist-packages (from torchtext==0.6.0) (0.1.96)\n",
            "Requirement already satisfied: requests in /usr/local/lib/python3.7/dist-packages (from torchtext==0.6.0) (2.23.0)\n",
            "Requirement already satisfied: six in /usr/local/lib/python3.7/dist-packages (from torchtext==0.6.0) (1.15.0)\n",
            "Requirement already satisfied: numpy in /usr/local/lib/python3.7/dist-packages (from torchtext==0.6.0) (1.19.5)\n",
            "Requirement already satisfied: torch in /usr/local/lib/python3.7/dist-packages (from torchtext==0.6.0) (1.10.0+cu111)\n",
            "Requirement already satisfied: tqdm in /usr/local/lib/python3.7/dist-packages (from torchtext==0.6.0) (4.62.3)\n",
            "Requirement already satisfied: certifi>=2017.4.17 in /usr/local/lib/python3.7/dist-packages (from requests->torchtext==0.6.0) (2021.10.8)\n",
            "Requirement already satisfied: chardet<4,>=3.0.2 in /usr/local/lib/python3.7/dist-packages (from requests->torchtext==0.6.0) (3.0.4)\n",
            "Requirement already satisfied: urllib3!=1.25.0,!=1.25.1,<1.26,>=1.21.1 in /usr/local/lib/python3.7/dist-packages (from requests->torchtext==0.6.0) (1.24.3)\n",
            "Requirement already satisfied: idna<3,>=2.5 in /usr/local/lib/python3.7/dist-packages (from requests->torchtext==0.6.0) (2.10)\n",
            "Requirement already satisfied: typing-extensions in /usr/local/lib/python3.7/dist-packages (from torch->torchtext==0.6.0) (3.10.0.2)\n"
          ]
        }
      ]
    },
    {
      "cell_type": "code",
      "metadata": {
        "id": "ebnOxgduZntj",
        "colab": {
          "base_uri": "https://localhost:8080/"
        },
        "outputId": "0ccb5694-20c2-4bb9-cb61-e34e51c3075f"
      },
      "source": [
        "maxInt = sys.maxsize\n",
        "\n",
        "while True:\n",
        "   \n",
        "    try:\n",
        "        csv.field_size_limit(maxInt)\n",
        "        break\n",
        "    except OverflowError:\n",
        "        maxInt = int(maxInt / 10)\n",
        "\n",
        "dataset = '/content/drive/My Drive/Colab Notebooks/SINGGALANG.tsv'\n",
        "data_df = pd.read_csv(dataset, sep='\\t', error_bad_lines=False, header=None, engine=\"python\", names=['word', 'tag'],\n",
        "                      quoting=csv.QUOTE_NONE)\n",
        "\n",
        "train_size = 0.6\n",
        "validate_size = 0.2\n",
        "train, validate, test = np.split(data_df.sample(frac=1), [int(train_size * len(data_df)), int((validate_size + train_size) * len(data_df))])\n",
        "train.to_csv(F\"/content/drive/My Drive/Colab Notebooks/train.csv\", sep='\\t', index = False)\n",
        "validate.to_csv(F\"/content/drive/My Drive/Colab Notebooks/validate.csv\", sep='\\t',  index = False)\n",
        "test.to_csv(F\"/content/drive/My Drive/Colab Notebooks/test.csv\", sep='\\t', index = False)\n",
        "\n",
        "dataset_train = '/content/drive/My Drive/Colab Notebooks/train.csv'\n",
        "data_df_train = pd.read_csv(dataset, error_bad_lines=False, header=None, engine=\"python\", names=['word', 'tag'],\n",
        "                      quoting=csv.QUOTE_NONE)\n",
        "print(data_df_train.head())\n"
      ],
      "execution_count": 4,
      "outputs": [
        {
          "output_type": "stream",
          "name": "stderr",
          "text": [
            "Skipping line 235842: Expected 2 fields in line 235842, saw 3\n",
            "Skipping line 554785: Expected 2 fields in line 554785, saw 3\n",
            "Skipping line 597624: Expected 2 fields in line 597624, saw 3\n",
            "Skipping line 612158: Expected 2 fields in line 612158, saw 6\n",
            "Skipping line 653536: Expected 2 fields in line 653536, saw 3\n",
            "Skipping line 750852: Expected 2 fields in line 750852, saw 3\n",
            "Skipping line 750862: Expected 2 fields in line 750862, saw 3\n",
            "Skipping line 750877: Expected 2 fields in line 750877, saw 3\n",
            "Skipping line 779220: Expected 2 fields in line 779220, saw 3\n",
            "Skipping line 866447: Expected 2 fields in line 866447, saw 3\n",
            "Skipping line 1001113: Expected 2 fields in line 1001113, saw 3\n",
            "Skipping line 1116605: Expected 2 fields in line 1116605, saw 3\n",
            "Skipping line 1130262: Expected 2 fields in line 1130262, saw 3\n",
            "Skipping line 1181274: Expected 2 fields in line 1181274, saw 3\n",
            "Skipping line 1376400: Expected 2 fields in line 1376400, saw 3\n",
            "Skipping line 1463189: Expected 2 fields in line 1463189, saw 3\n"
          ]
        },
        {
          "output_type": "stream",
          "name": "stdout",
          "text": [
            "          word   tag\n",
            "0        Ia\\tO  None\n",
            "1  menjabat\\tO  None\n",
            "2   sebagai\\tO  None\n",
            "3  Presiden\\tO  None\n",
            "4    ketiga\\tO  None\n"
          ]
        }
      ]
    },
    {
      "cell_type": "code",
      "metadata": {
        "colab": {
          "base_uri": "https://localhost:8080/"
        },
        "id": "h47Jzu-p3tMe",
        "outputId": "7d58b267-a3ca-44b3-fb32-c61b24b098a9"
      },
      "source": [
        "print(validate.head())\n"
      ],
      "execution_count": 5,
      "outputs": [
        {
          "output_type": "stream",
          "name": "stdout",
          "text": [
            "              word    tag\n",
            "3259     Kecepatan      O\n",
            "1333992      JKT48      O\n",
            "293442       Utara  Place\n",
            "973047           .      O\n",
            "215836       tahun      O\n"
          ]
        }
      ]
    },
    {
      "cell_type": "code",
      "metadata": {
        "id": "s-aVwuped655"
      },
      "source": [
        "class Corpus(object):\n",
        "\n",
        "  def __init__(self, input_folder, min_word_freq, batch_size):\n",
        "    # list all the fields\n",
        "    self.word_field = Field(lower=True)\n",
        "    self.tag_field = Field(unk_token=None)\n",
        "    # create dataset using built-in parser from torchtext\n",
        "    self.train_dataset, self.val_dataset, self.test_dataset = SequenceTaggingDataset.splits(\n",
        "        path=input_folder,\n",
        "        train=\"train.csv\",\n",
        "        validation=\"validate.csv\",\n",
        "        test=\"test.csv\",\n",
        "        fields=((\"word\", self.word_field), (\"tag\", self.tag_field))\n",
        "    )\n",
        "\n",
        "    # convert fields to vocabulary list\n",
        "    self.word_field.build_vocab(self.train_dataset.word, min_freq=min_word_freq)\n",
        "    self.tag_field.build_vocab(self.train_dataset.tag)\n",
        "    # create iterator for batch input\n",
        "    self.train_iter, self.val_iter, self.test_iter = BucketIterator.splits(\n",
        "        datasets=(self.train_dataset, self.val_dataset, self.test_dataset),\n",
        "        batch_size=batch_size\n",
        "    )\n",
        "    # prepare padding index to be ignored during model training/evaluation\n",
        "    self.word_pad_idx = self.word_field.vocab.stoi[self.word_field.pad_token]\n",
        "    self.tag_pad_idx = self.tag_field.vocab.stoi[self.tag_field.pad_token]\n",
        "    "
      ],
      "execution_count": 6,
      "outputs": []
    },
    {
      "cell_type": "code",
      "metadata": {
        "colab": {
          "base_uri": "https://localhost:8080/"
        },
        "id": "tXTM9VSuCWol",
        "outputId": "13047e17-7fc2-420f-9c63-455a64908c51"
      },
      "source": [
        "\n",
        "corpus = Corpus(\n",
        "    input_folder=\"/content/drive/My Drive/Colab Notebooks/\",\n",
        "    min_word_freq=3, \n",
        "    batch_size=64,\n",
        ")\n",
        "print(f\"Train set: {len(corpus.train_dataset)} sentences\")\n",
        "print(f\"Val set: {len(corpus.val_dataset)} sentences\")\n",
        "print(f\"Test set: {len(corpus.test_dataset)} sentences\")"
      ],
      "execution_count": 7,
      "outputs": [
        {
          "output_type": "stream",
          "name": "stdout",
          "text": [
            "Train set: 1 sentences\n",
            "Val set: 1 sentences\n",
            "Test set: 1 sentences\n"
          ]
        }
      ]
    },
    {
      "cell_type": "code",
      "metadata": {
        "id": "btyPf6qTlGbU"
      },
      "source": [
        "class BiLSTM(nn.Module):\n",
        "\n",
        "  def __init__(self, input_dim, embedding_dim, hidden_dim, output_dim, lstm_layers,\n",
        "               emb_dropout, lstm_dropout, fc_dropout, word_pad_idx):\n",
        "    super().__init__()\n",
        "    self.embedding_dim = embedding_dim\n",
        "    self.embedding = nn.Embedding(\n",
        "        num_embeddings=input_dim, \n",
        "        embedding_dim=embedding_dim, \n",
        "        padding_idx=word_pad_idx\n",
        "    )\n",
        "    self.emb_dropout = nn.Dropout(emb_dropout)\n",
        "    self.lstm = nn.LSTM(\n",
        "        input_size=embedding_dim,\n",
        "        hidden_size=hidden_dim,\n",
        "        num_layers=lstm_layers,\n",
        "        bidirectional=True,\n",
        "        dropout=lstm_dropout if lstm_layers > 1 else 0\n",
        "    )\n",
        "    self.fc_dropout = nn.Dropout(fc_dropout)\n",
        "    self.fc = nn.Linear(hidden_dim * 2, output_dim)  \n",
        "\n",
        "  def forward(self, sentence):\n",
        "    embedding_out = self.emb_dropout(self.embedding(sentence))\n",
        "    lstm_out, _ = self.lstm(embedding_out)\n",
        "    ner_out = self.fc(self.fc_dropout(lstm_out))\n",
        "    return ner_out\n",
        "\n",
        "  def init_weights(self):\n",
        "    for name, param in self.named_parameters():\n",
        "      nn.init.normal_(param.data, mean=0, std=0.1)\n",
        "\n",
        "  def init_embeddings(self, word_pad_idx):\n",
        "    self.embedding.weight.data[word_pad_idx] = torch.zeros(self.embedding_dim)\n",
        "\n",
        "  def count_parameters(self):\n",
        "    return sum(p.numel() for p in self.parameters() if p.requires_grad)"
      ],
      "execution_count": 8,
      "outputs": []
    },
    {
      "cell_type": "code",
      "metadata": {
        "colab": {
          "base_uri": "https://localhost:8080/"
        },
        "id": "GbDMTLsg36rF",
        "outputId": "a6a48d55-d780-4373-a75c-b18dc95c59ae"
      },
      "source": [
        "bilstm = BiLSTM(\n",
        "    input_dim=len(corpus.word_field.vocab),\n",
        "    embedding_dim=300,\n",
        "    hidden_dim=64,\n",
        "    output_dim=len(corpus.tag_field.vocab),\n",
        "    lstm_layers=2,\n",
        "    emb_dropout=0.5,\n",
        "    lstm_dropout=0.1,\n",
        "    fc_dropout=0.25,\n",
        "    word_pad_idx=corpus.word_pad_idx\n",
        ")\n",
        "bilstm.init_weights()\n",
        "bilstm.init_embeddings(word_pad_idx=corpus.word_pad_idx)\n",
        "print(f\"The model has {bilstm.count_parameters():,} trainable parameters.\")\n",
        "print(bilstm)"
      ],
      "execution_count": 9,
      "outputs": [
        {
          "output_type": "stream",
          "name": "stdout",
          "text": [
            "The model has 6,310,294 trainable parameters.\n",
            "BiLSTM(\n",
            "  (embedding): Embedding(20076, 300, padding_idx=1)\n",
            "  (emb_dropout): Dropout(p=0.5, inplace=False)\n",
            "  (lstm): LSTM(300, 64, num_layers=2, dropout=0.1, bidirectional=True)\n",
            "  (fc_dropout): Dropout(p=0.25, inplace=False)\n",
            "  (fc): Linear(in_features=128, out_features=6, bias=True)\n",
            ")\n"
          ]
        }
      ]
    },
    {
      "cell_type": "code",
      "metadata": {
        "id": "v5lafrBE39Xq"
      },
      "source": [
        "class NER(object):\n",
        "\n",
        "  def __init__(self, model, data, optimizer_cls, loss_fn_cls):\n",
        "    self.model = model\n",
        "    self.data = data\n",
        "    self.optimizer = optimizer_cls(model.parameters())\n",
        "    self.loss_fn = loss_fn_cls(ignore_index=self.data.tag_pad_idx)\n",
        "\n",
        "  @staticmethod\n",
        "  def epoch_time(start_time, end_time):\n",
        "    elapsed_time = end_time - start_time\n",
        "    elapsed_mins = int(elapsed_time / 60)\n",
        "    elapsed_secs = int(elapsed_time - (elapsed_mins * 60))\n",
        "    return elapsed_mins, elapsed_secs\n",
        "\n",
        "  def accuracy(self, preds, y):\n",
        "    max_preds = preds.argmax(dim=1, keepdim=True) \n",
        "    non_pad_elements = (y != self.data.tag_pad_idx).nonzero() \n",
        "    correct = max_preds[non_pad_elements].squeeze(1).eq(y[non_pad_elements])\n",
        "    return correct.sum() / torch.FloatTensor([y[non_pad_elements].shape[0]])\n",
        "\n",
        "  def epoch(self):\n",
        "      epoch_loss = 0\n",
        "      epoch_acc = 0\n",
        "      self.model.train()\n",
        "      for batch in self.data.train_iter:\n",
        "        text = batch.word\n",
        "        true_tags = batch.tag\n",
        "        self.optimizer.zero_grad()\n",
        "        pred_tags = self.model(text)\n",
        "        pred_tags = pred_tags.view(-1, pred_tags.shape[-1])\n",
        "        true_tags = true_tags.view(-1)\n",
        "        batch_loss = self.loss_fn(pred_tags, true_tags)\n",
        "        batch_acc = self.accuracy(pred_tags, true_tags)\n",
        "        print\n",
        "        batch_loss.backward()\n",
        "        self.optimizer.step()\n",
        "        epoch_loss += batch_loss.item()\n",
        "        epoch_acc += batch_acc.item()\n",
        "      return epoch_loss / len(self.data.train_iter), epoch_acc / len(self.data.train_iter)\n",
        "\n",
        "  def evaluate(self, iterator):\n",
        "      epoch_loss = 0\n",
        "      epoch_acc = 0\n",
        "      self.model.eval()\n",
        "      with torch.no_grad():\n",
        "\n",
        "          for batch in iterator:\n",
        "              text = batch.word\n",
        "              true_tags = batch.tag\n",
        "              pred_tags = self.model(text)\n",
        "              pred_tags = pred_tags.view(-1, pred_tags.shape[-1])\n",
        "              true_tags = true_tags.view(-1)\n",
        "              batch_loss = self.loss_fn(pred_tags, true_tags)\n",
        "              batch_acc = self.accuracy(pred_tags, true_tags)\n",
        "              epoch_loss += batch_loss.item()\n",
        "              epoch_acc += batch_acc.item()\n",
        "      return epoch_loss / len(iterator), epoch_acc / len(iterator)\n",
        "\n",
        "  def train(self, n_epochs):\n",
        "    for epoch in range(n_epochs):\n",
        "        start_time = time.time()\n",
        "        train_loss, train_acc = self.epoch()\n",
        "        end_time = time.time()\n",
        "        epoch_mins, epoch_secs = NER.epoch_time(start_time, end_time)\n",
        "        print(f\"Epoch: {epoch + 1:02} | Epoch Time: {epoch_mins}m {epoch_secs}s\")\n",
        "        print(f\"\\tTrn Loss: {train_loss:.3f} | Trn Acc: {train_acc * 100:.2f}%\")\n",
        "        val_loss, val_acc = self.evaluate(self.data.val_iter)\n",
        "        print(f\"\\tVal Loss: {val_loss:.3f} | Val Acc: {val_acc * 100:.2f}%\")\n",
        "    test_loss, test_acc = self.evaluate(self.data.test_iter)\n",
        "    print(f\"Test Loss: {test_loss:.3f} |  Test Acc: {test_acc * 100:.2f}%\")\n",
        "\n",
        "  def infer(self, sentence, true_tags=None):\n",
        "    self.model.eval()\n",
        "\n",
        "    nlp = Indonesian()\n",
        "    tokens = [token.text.lower() for token in nlp(sentence)]\n",
        "\n",
        "    numericalized_tokens = [self.data.word_field.vocab.stoi[t] for t in tokens]\n",
        "\n",
        "    unk_idx = self.data.word_field.vocab.stoi[self.data.word_field.unk_token]\n",
        "    unks = [t for t, n in zip(tokens, numericalized_tokens) if n == unk_idx]\n",
        "\n",
        "    token_tensor = torch.LongTensor(numericalized_tokens)\n",
        "    token_tensor = token_tensor.unsqueeze(-1)\n",
        "    predictions = self.model(token_tensor)\n",
        "\n",
        "    top_predictions = predictions.argmax(-1)\n",
        "    predicted_tags = [self.data.tag_field.vocab.itos[t.item()] for t in top_predictions]\n",
        "\n",
        "    max_len_token = max([len(token) for token in tokens] + [len(\"word\")])\n",
        "    max_len_tag = max([len(tag) for tag in predicted_tags] + [len(\"pred\")])\n",
        "    print(\n",
        "        f\"{'word'.ljust(max_len_token)}\\t{'unk'.ljust(max_len_token)}\\t{'pred tag'.ljust(max_len_tag)}\" \n",
        "        + (\"\\ttrue tag\" if true_tags else \"\")\n",
        "        )\n",
        "    for i, token in enumerate(tokens):\n",
        "      is_unk = \"✓\" if token in unks else \"\"\n",
        "      print(\n",
        "          f\"{token.ljust(max_len_token)}\\t{is_unk.ljust(max_len_token)}\\t{predicted_tags[i].ljust(max_len_tag)}\" \n",
        "          + (f\"\\t{true_tags[i]}\" if true_tags else \"\")\n",
        "          )\n",
        "    return tokens, predicted_tags, unks"
      ],
      "execution_count": 10,
      "outputs": []
    },
    {
      "cell_type": "code",
      "metadata": {
        "id": "IBl944AM4EX9"
      },
      "source": [
        "ner = NER(\n",
        "  model=bilstm,\n",
        "  data=corpus,\n",
        "  optimizer_cls=Adam,\n",
        "  loss_fn_cls=nn.CrossEntropyLoss\n",
        ")\n",
        "ner.train(1)"
      ],
      "execution_count": null,
      "outputs": []
    }
  ]
}