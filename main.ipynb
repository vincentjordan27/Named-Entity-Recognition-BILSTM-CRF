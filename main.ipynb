{
  "nbformat": 4,
  "nbformat_minor": 0,
  "metadata": {
    "colab": {
      "name": "Copy of main.ipynb",
      "provenance": [],
      "collapsed_sections": [],
      "include_colab_link": true
    },
    "kernelspec": {
      "name": "python3",
      "display_name": "Python 3"
    },
    "language_info": {
      "name": "python"
    }
  },
  "cells": [
    {
      "cell_type": "markdown",
      "metadata": {
        "id": "view-in-github",
        "colab_type": "text"
      },
      "source": [
        "<a href=\"https://colab.research.google.com/github/vincentjordan27/Named-Entity-Recognition-BILSTM-CRF/blob/main/main.ipynb\" target=\"_parent\"><img src=\"https://colab.research.google.com/assets/colab-badge.svg\" alt=\"Open In Colab\"/></a>"
      ]
    },
    {
      "cell_type": "code",
      "metadata": {
        "colab": {
          "base_uri": "https://localhost:8080/"
        },
        "id": "4zdcbTMiY9pR",
        "outputId": "0a70eaae-b4e5-43aa-f691-dd9a8b6ed083"
      },
      "source": [
        "import pandas as pd\n",
        "import numpy as np\n",
        "import sys\n",
        "import csv\n",
        "from google.colab import drive\n",
        "drive.mount('/content/drive')"
      ],
      "execution_count": 3,
      "outputs": [
        {
          "output_type": "stream",
          "name": "stdout",
          "text": [
            "Mounted at /content/drive\n"
          ]
        }
      ]
    },
    {
      "cell_type": "code",
      "metadata": {
        "colab": {
          "base_uri": "https://localhost:8080/"
        },
        "id": "Ok6N_p_Cqav-",
        "outputId": "055661fc-cc49-4d03-9267-4fe74f04ff38"
      },
      "source": [
        "!pip install torchtext==0.6.0\n",
        "\n",
        "import time\n",
        "import torch\n",
        "from torch import nn\n",
        "from torch.optim import Adam\n",
        "from torchtext.data import Field, BucketIterator\n",
        "from torchtext.datasets import SequenceTaggingDataset\n",
        "from spacy.lang.id import Indonesian"
      ],
      "execution_count": 4,
      "outputs": [
        {
          "output_type": "stream",
          "name": "stdout",
          "text": [
            "Collecting torchtext==0.6.0\n",
            "  Downloading torchtext-0.6.0-py3-none-any.whl (64 kB)\n",
            "\u001b[?25l\r\u001b[K     |█████                           | 10 kB 24.9 MB/s eta 0:00:01\r\u001b[K     |██████████▏                     | 20 kB 27.4 MB/s eta 0:00:01\r\u001b[K     |███████████████▎                | 30 kB 32.1 MB/s eta 0:00:01\r\u001b[K     |████████████████████▍           | 40 kB 23.8 MB/s eta 0:00:01\r\u001b[K     |█████████████████████████▌      | 51 kB 22.7 MB/s eta 0:00:01\r\u001b[K     |██████████████████████████████▋ | 61 kB 14.8 MB/s eta 0:00:01\r\u001b[K     |████████████████████████████████| 64 kB 2.4 MB/s \n",
            "\u001b[?25hRequirement already satisfied: torch in /usr/local/lib/python3.7/dist-packages (from torchtext==0.6.0) (1.10.0+cu111)\n",
            "Requirement already satisfied: tqdm in /usr/local/lib/python3.7/dist-packages (from torchtext==0.6.0) (4.62.3)\n",
            "Collecting sentencepiece\n",
            "  Downloading sentencepiece-0.1.96-cp37-cp37m-manylinux_2_17_x86_64.manylinux2014_x86_64.whl (1.2 MB)\n",
            "\u001b[K     |████████████████████████████████| 1.2 MB 23.2 MB/s \n",
            "\u001b[?25hRequirement already satisfied: six in /usr/local/lib/python3.7/dist-packages (from torchtext==0.6.0) (1.15.0)\n",
            "Requirement already satisfied: requests in /usr/local/lib/python3.7/dist-packages (from torchtext==0.6.0) (2.23.0)\n",
            "Requirement already satisfied: numpy in /usr/local/lib/python3.7/dist-packages (from torchtext==0.6.0) (1.19.5)\n",
            "Requirement already satisfied: certifi>=2017.4.17 in /usr/local/lib/python3.7/dist-packages (from requests->torchtext==0.6.0) (2021.10.8)\n",
            "Requirement already satisfied: chardet<4,>=3.0.2 in /usr/local/lib/python3.7/dist-packages (from requests->torchtext==0.6.0) (3.0.4)\n",
            "Requirement already satisfied: urllib3!=1.25.0,!=1.25.1,<1.26,>=1.21.1 in /usr/local/lib/python3.7/dist-packages (from requests->torchtext==0.6.0) (1.24.3)\n",
            "Requirement already satisfied: idna<3,>=2.5 in /usr/local/lib/python3.7/dist-packages (from requests->torchtext==0.6.0) (2.10)\n",
            "Requirement already satisfied: typing-extensions in /usr/local/lib/python3.7/dist-packages (from torch->torchtext==0.6.0) (3.10.0.2)\n",
            "Installing collected packages: sentencepiece, torchtext\n",
            "  Attempting uninstall: torchtext\n",
            "    Found existing installation: torchtext 0.11.0\n",
            "    Uninstalling torchtext-0.11.0:\n",
            "      Successfully uninstalled torchtext-0.11.0\n",
            "Successfully installed sentencepiece-0.1.96 torchtext-0.6.0\n"
          ]
        }
      ]
    },
    {
      "cell_type": "code",
      "metadata": {
        "id": "ebnOxgduZntj",
        "colab": {
          "base_uri": "https://localhost:8080/"
        },
        "outputId": "867a1486-0142-41cd-9cb9-708630693440"
      },
      "source": [
        "maxInt = sys.maxsize\n",
        "\n",
        "while True:\n",
        "   \n",
        "    try:\n",
        "        csv.field_size_limit(maxInt)\n",
        "        break\n",
        "    except OverflowError:\n",
        "        maxInt = int(maxInt / 10)\n",
        "\n",
        "dataset = '/content/drive/My Drive/Colab Notebooks/SINGGALANG.tsv'\n",
        "data_df = pd.read_csv(dataset, sep='\\t', error_bad_lines=False, header=None, engine=\"python\", names=['word', 'tag'], quoting=csv.QUOTE_NONE)\n",
        "print(data_df.head())\n"
      ],
      "execution_count": 5,
      "outputs": [
        {
          "output_type": "stream",
          "name": "stdout",
          "text": [
            "       word tag\n",
            "0        Ia   O\n",
            "1  menjabat   O\n",
            "2   sebagai   O\n",
            "3  Presiden   O\n",
            "4    ketiga   O\n"
          ]
        }
      ]
    },
    {
      "cell_type": "code",
      "metadata": {
        "id": "s-aVwuped655"
      },
      "source": [
        "class Corpus(object):\n",
        "\n",
        "  def __init__(self, input, min_word_freq, batch_size):\n",
        "    \n",
        "    self.word_field = Field(lower=True)\n",
        "    self.tag_field= Field(unk_token=None)\n"
      ],
      "execution_count": 22,
      "outputs": []
    },
    {
      "cell_type": "code",
      "metadata": {
        "id": "QW2tkY0DzZto",
        "colab": {
          "base_uri": "https://localhost:8080/"
        },
        "outputId": "1cc8bb79-bf3e-4d37-caf6-b25585669be2"
      },
      "source": [
        "corpus = Corpus(\n",
        "    input=f\"{dataset}/\",\n",
        "    min_word_freq=5,\n",
        "    batch_size=50\n",
        "    )\n",
        "#print(corpus.tag_field)"
      ],
      "execution_count": 35,
      "outputs": [
        {
          "output_type": "stream",
          "name": "stdout",
          "text": [
            "<torchtext.data.field.Field object at 0x7f970b84a450>\n"
          ]
        }
      ]
    }
  ]
}