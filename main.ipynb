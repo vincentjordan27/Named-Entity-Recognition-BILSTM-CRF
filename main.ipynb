{
  "nbformat": 4,
  "nbformat_minor": 0,
  "metadata": {
    "colab": {
      "name": "main.ipynb",
      "provenance": [],
      "authorship_tag": "ABX9TyM/MC7ZswSZCzXmhaK/nc5N",
      "include_colab_link": true
    },
    "kernelspec": {
      "name": "python3",
      "display_name": "Python 3"
    },
    "language_info": {
      "name": "python"
    }
  },
  "cells": [
    {
      "cell_type": "markdown",
      "metadata": {
        "id": "view-in-github",
        "colab_type": "text"
      },
      "source": [
        "<a href=\"https://colab.research.google.com/github/vincentjordan27/Named-Entity-Recognition-BILSTM-CRF/blob/main/main.ipynb\" target=\"_parent\"><img src=\"https://colab.research.google.com/assets/colab-badge.svg\" alt=\"Open In Colab\"/></a>"
      ]
    },
    {
      "cell_type": "code",
      "metadata": {
        "id": "4zdcbTMiY9pR"
      },
      "source": [
        "import pandas as pd\n",
        "import sys\n",
        "import csv"
      ],
      "execution_count": null,
      "outputs": []
    },
    {
      "cell_type": "code",
      "metadata": {
        "id": "ebnOxgduZntj"
      },
      "source": [
        "maxInt = sys.maxsize\n",
        "\n",
        "while True:\n",
        "   \n",
        "    try:\n",
        "        csv.field_size_limit(maxInt)\n",
        "        break\n",
        "    except OverflowError:\n",
        "        maxInt = int(maxInt / 10)\n",
        "\n",
        "dataset = 'SINGGALANG.tsv'\n",
        "data_df = pd.read_csv(dataset, sep='\\t', error_bad_lines=False, header=None, engine=\"python\", names=['word', 'tag'],\n",
        "                      quoting=csv.QUOTE_NONE)\n",
        "print(data_df.head())"
      ],
      "execution_count": null,
      "outputs": []
    }
  ]
}