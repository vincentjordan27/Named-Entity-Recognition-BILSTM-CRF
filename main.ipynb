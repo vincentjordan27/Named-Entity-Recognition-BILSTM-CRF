{
  "nbformat": 4,
  "nbformat_minor": 0,
  "metadata": {
    "colab": {
      "name": "main.ipynb",
      "provenance": [],
      "collapsed_sections": [],
      "include_colab_link": true
    },
    "kernelspec": {
      "name": "python3",
      "display_name": "Python 3"
    },
    "language_info": {
      "name": "python"
    }
  },
  "cells": [
    {
      "cell_type": "markdown",
      "metadata": {
        "id": "view-in-github",
        "colab_type": "text"
      },
      "source": [
        "<a href=\"https://colab.research.google.com/github/vincentjordan27/Named-Entity-Recognition-BILSTM-CRF/blob/main/main.ipynb\" target=\"_parent\"><img src=\"https://colab.research.google.com/assets/colab-badge.svg\" alt=\"Open In Colab\"/></a>"
      ]
    },
    {
      "cell_type": "code",
      "metadata": {
        "id": "4zdcbTMiY9pR"
      },
      "source": [
        "import pandas as pd\n",
        "import numpy as np\n",
        "import sys\n",
        "import csv\n",
        "from sklearn.model_selection import train_test_split\n",
        "from torch.utils.data import DataLoader\n",
        "\n"
      ],
      "execution_count": 13,
      "outputs": []
    },
    {
      "cell_type": "code",
      "metadata": {
        "id": "1e8gd5PtmKMV",
        "colab": {
          "base_uri": "https://localhost:8080/"
        },
        "outputId": "504fab37-08ef-4029-8654-53c819c26b0b"
      },
      "source": [
        "from google.colab import drive\n",
        "drive.mount('/content/drive')"
      ],
      "execution_count": 14,
      "outputs": [
        {
          "output_type": "stream",
          "name": "stdout",
          "text": [
            "Mounted at /content/drive\n"
          ]
        }
      ]
    },
    {
      "cell_type": "code",
      "metadata": {
        "id": "Ok6N_p_Cqav-",
        "colab": {
          "base_uri": "https://localhost:8080/"
        },
        "outputId": "735b9ab7-9e6f-4bb5-fadf-451c4fb4c545"
      },
      "source": [
        "!pip install torchtext==0.6.0\n",
        "!pip install pytorch-crf\n",
        "\n",
        "import time\n",
        "import gensim\n",
        "import torch\n",
        "from torch import nn\n",
        "from torch.optim import Adam\n",
        "from torchtext.data import Field, NestedField, BucketIterator\n",
        "from torchtext.datasets import SequenceTaggingDataset\n",
        "from torchtext.vocab import Vocab\n",
        "from torchcrf import CRF\n",
        "from collections import Counter\n",
        "from spacy.lang.id import Indonesian"
      ],
      "execution_count": 1,
      "outputs": [
        {
          "output_type": "stream",
          "name": "stdout",
          "text": [
            "Requirement already satisfied: torchtext==0.6.0 in /usr/local/lib/python3.7/dist-packages (0.6.0)\n",
            "Requirement already satisfied: six in /usr/local/lib/python3.7/dist-packages (from torchtext==0.6.0) (1.15.0)\n",
            "Requirement already satisfied: tqdm in /usr/local/lib/python3.7/dist-packages (from torchtext==0.6.0) (4.62.3)\n",
            "Requirement already satisfied: requests in /usr/local/lib/python3.7/dist-packages (from torchtext==0.6.0) (2.23.0)\n",
            "Requirement already satisfied: torch in /usr/local/lib/python3.7/dist-packages (from torchtext==0.6.0) (1.10.0+cu111)\n",
            "Requirement already satisfied: sentencepiece in /usr/local/lib/python3.7/dist-packages (from torchtext==0.6.0) (0.1.96)\n",
            "Requirement already satisfied: numpy in /usr/local/lib/python3.7/dist-packages (from torchtext==0.6.0) (1.19.5)\n",
            "Requirement already satisfied: certifi>=2017.4.17 in /usr/local/lib/python3.7/dist-packages (from requests->torchtext==0.6.0) (2021.10.8)\n",
            "Requirement already satisfied: idna<3,>=2.5 in /usr/local/lib/python3.7/dist-packages (from requests->torchtext==0.6.0) (2.10)\n",
            "Requirement already satisfied: chardet<4,>=3.0.2 in /usr/local/lib/python3.7/dist-packages (from requests->torchtext==0.6.0) (3.0.4)\n",
            "Requirement already satisfied: urllib3!=1.25.0,!=1.25.1,<1.26,>=1.21.1 in /usr/local/lib/python3.7/dist-packages (from requests->torchtext==0.6.0) (1.24.3)\n",
            "Requirement already satisfied: typing-extensions in /usr/local/lib/python3.7/dist-packages (from torch->torchtext==0.6.0) (3.10.0.2)\n",
            "Requirement already satisfied: pytorch-crf in /usr/local/lib/python3.7/dist-packages (0.7.2)\n"
          ]
        }
      ]
    },
    {
      "cell_type": "code",
      "metadata": {
        "id": "s-aVwuped655"
      },
      "source": [
        "class Corpus(object):\n",
        "\n",
        "  def __init__(self, input_folder, min_word_freq, batch_size):\n",
        "    self.word_field = Field(lower=True)\n",
        "    self.tag_field = Field(unk_token=None)\n",
        "    self.train_dataset, self.val_dataset, self.test_dataset = SequenceTaggingDataset.splits(\n",
        "        path=input_folder,\n",
        "        train=\"train.tsv\",\n",
        "        validation=\"val.tsv\",\n",
        "        test=\"test.tsv\",\n",
        "        fields=((\"word\", self.word_field), (\"tag\", self.tag_field))\n",
        "    )\n",
        "    self.word_field.build_vocab(self.train_dataset.word, min_freq=min_word_freq)\n",
        "    self.tag_field.build_vocab(self.train_dataset.tag)\n",
        "\n",
        "    self.train_iter, self.val_iter, self.test_iter = BucketIterator.splits(\n",
        "        datasets=(self.train_dataset, self.val_dataset, self.test_dataset),\n",
        "        batch_size=batch_size\n",
        "    )\n",
        "    self.word_pad_idx = self.word_field.vocab.stoi[self.word_field.pad_token]\n",
        "    self.tag_pad_idx = self.tag_field.vocab.stoi[self.tag_field.pad_token]\n",
        "    "
      ],
      "execution_count": 21,
      "outputs": []
    },
    {
      "cell_type": "code",
      "metadata": {
        "colab": {
          "base_uri": "https://localhost:8080/"
        },
        "id": "tXTM9VSuCWol",
        "outputId": "16d0516f-60d2-4660-9cea-d8d4765fb8e7"
      },
      "source": [
        "corpus = Corpus(\n",
        "    input_folder=\"/content/drive/My Drive/Colab Notebooks/\",\n",
        "    min_word_freq=1, \n",
        "    batch_size=64,\n",
        ")\n",
        "print(f\"Train set: {len(corpus.train_dataset)} kata\")\n",
        "print(f\"Val set: {len(corpus.val_dataset)} kata\")\n",
        "print(f\"Test set: {len(corpus.test_dataset)} kata\")"
      ],
      "execution_count": 69,
      "outputs": [
        {
          "output_type": "stream",
          "name": "stdout",
          "text": [
            "Train set: 3535 kata\n",
            "Val set: 470 kata\n",
            "Test set: 468 kata\n"
          ]
        }
      ]
    },
    {
      "cell_type": "code",
      "metadata": {
        "id": "btyPf6qTlGbU"
      },
      "source": [
        "class BiLSTM(nn.Module):\n",
        "\n",
        "  def __init__(self, \n",
        "               input_dim, \n",
        "               embedding_dim, \n",
        "               hidden_dim, \n",
        "               output_dim, \n",
        "               lstm_layers,\n",
        "               emb_dropout, \n",
        "               lstm_dropout, \n",
        "               fc_dropout, \n",
        "               word_pad_idx,\n",
        "               tag_pad_idx):\n",
        "    super().__init__()\n",
        "    self.embedding_dim = embedding_dim\n",
        "    self.embedding = nn.Embedding(\n",
        "        num_embeddings=input_dim, \n",
        "        embedding_dim=embedding_dim, \n",
        "        padding_idx=word_pad_idx\n",
        "    )\n",
        "    self.emb_dropout = nn.Dropout(emb_dropout)\n",
        "    self.lstm = nn.LSTM(\n",
        "        input_size=embedding_dim,\n",
        "        hidden_size=hidden_dim,\n",
        "        num_layers=lstm_layers,\n",
        "        bidirectional=True,\n",
        "        dropout=lstm_dropout if lstm_layers > 1 else 0\n",
        "    )\n",
        "    self.fc_dropout = nn.Dropout(fc_dropout)\n",
        "    self.fc = nn.Linear(hidden_dim * 2, output_dim)  \n",
        "\n",
        "    #CRF\n",
        "    self.tag_pad_idx = tag_pad_idx\n",
        "    self.crf = CRF(num_tags=output_dim)\n",
        "\n",
        "  def forward(self, sentence):\n",
        "    embedding_out = self.emb_dropout(self.embedding(sentence))\n",
        "    lstm_out, _ = self.lstm(embedding_out)\n",
        "    ner_out = self.fc(self.fc_dropout(lstm_out))\n",
        "    return ner_out\n",
        "\n",
        "  def init_weights(self):\n",
        "    for name, param in self.named_parameters():\n",
        "      nn.init.normal_(param.data, mean=0, std=0.1)\n",
        "\n",
        "  def init_embeddings(self, word_pad_idx):\n",
        "    self.embedding.weight.data[word_pad_idx] = torch.zeros(self.embedding_dim)\n",
        "\n",
        "  def count_parameters(self):\n",
        "    return sum(p.numel() for p in self.parameters() if p.requires_grad)\n",
        "\n",
        "  \n",
        "  #crf output\n",
        "  def init_crf_transitions(self, tag_names, imp_value=-100):\n",
        "        num_tags = len(tag_names)\n",
        "        for i in range(num_tags):\n",
        "            tag_name = tag_names[i]\n",
        "            # I and L and <pad> impossible as a start\n",
        "            if tag_name[0] in (\"I\", \"L\") or tag_name == \"<pad>\":\n",
        "                torch.nn.init.constant_(self.crf.start_transitions[i], imp_value)\n",
        "            # B and I impossible as an end\n",
        "            if tag_name[0] in (\"B\", \"I\"):\n",
        "                torch.nn.init.constant_(self.crf.end_transitions[i], imp_value)\n",
        "        # init impossible transitions between positions\n",
        "        tag_is = {}\n",
        "        for tag_position in (\"B\", \"I\", \"O\", \"U\", \"L\"):\n",
        "            tag_is[tag_position] = [i for i, tag in enumerate(tag_names) if tag[0] == tag_position]\n",
        "        tag_is[\"P\"] = [i for i, tag in enumerate(tag_names) if tag == \"tag\"]\n",
        "        impossible_transitions_position = {\n",
        "            \"B\": \"BOUP\",\n",
        "            \"I\": \"BOUP\",\n",
        "            \"O\": \"IL\",\n",
        "            \"U\": \"IL\",\n",
        "            \"L\": \"IL\"\n",
        "        }\n",
        "        for from_tag, to_tag_list in impossible_transitions_position.items():\n",
        "            to_tags = list(to_tag_list)\n",
        "            for from_tag_i in tag_is[from_tag]:\n",
        "                for to_tag in to_tags:\n",
        "                    for to_tag_i in tag_is[to_tag]:\n",
        "                        torch.nn.init.constant_(\n",
        "                            self.crf.transitions[from_tag_i, to_tag_i], imp_value\n",
        "                        )\n",
        "        # init impossible B and I transitions to different entity types\n",
        "        impossible_transitions_tags = {\n",
        "            \"B\": \"IL\",\n",
        "            \"I\": \"IL\"\n",
        "        }\n",
        "        for from_tag, to_tag_list in impossible_transitions_tags.items():\n",
        "            to_tags = list(to_tag_list)\n",
        "            for from_tag_i in tag_is[from_tag]:\n",
        "                for to_tag in to_tags:\n",
        "                    for to_tag_i in tag_is[to_tag]:\n",
        "                        if tag_names[from_tag_i].split(\"-\")[1] != tag_names[to_tag_i].split(\"-\")[1]:\n",
        "                            torch.nn.init.constant_(\n",
        "                                self.crf.transitions[from_tag_i, to_tag_i], imp_value\n",
        "                            )\n",
        "    ### END MODIFIED SECTION: CRF OUTPUT ###"
      ],
      "execution_count": 33,
      "outputs": []
    },
    {
      "cell_type": "code",
      "metadata": {
        "colab": {
          "base_uri": "https://localhost:8080/"
        },
        "id": "GbDMTLsg36rF",
        "outputId": "6e993cf4-2e49-47c2-da84-da945bf85ec4"
      },
      "source": [
        "bilstm = BiLSTM(\n",
        "    input_dim=len(corpus.word_field.vocab),\n",
        "    embedding_dim=10,\n",
        "    hidden_dim=8,\n",
        "    output_dim=len(corpus.tag_field.vocab),\n",
        "    lstm_layers=1,\n",
        "    emb_dropout=0.5,\n",
        "    lstm_dropout=0.1,\n",
        "    fc_dropout=0.25,\n",
        "    word_pad_idx=corpus.word_pad_idx, \n",
        "    tag_pad_idx=corpus.tag_pad_idx\n",
        ")\n",
        "bilstm.init_weights()\n",
        "bilstm.init_embeddings(word_pad_idx=corpus.word_pad_idx)\n",
        "bilstm.init_crf_transitions(\n",
        "    tag_names=corpus.tag_field.vocab.itos\n",
        ")\n",
        "\n",
        "print(f\"The model has {bilstm.count_parameters():,} trainable parameters.\")\n",
        "print(bilstm)\n",
        "print(len(corpus.word_field.vocab))"
      ],
      "execution_count": 34,
      "outputs": [
        {
          "output_type": "stream",
          "name": "stdout",
          "text": [
            "The model has 106,152 trainable parameters.\n",
            "BiLSTM(\n",
            "  (embedding): Embedding(10397, 10, padding_idx=1)\n",
            "  (emb_dropout): Dropout(p=0.5, inplace=False)\n",
            "  (lstm): LSTM(10, 8, bidirectional=True)\n",
            "  (fc_dropout): Dropout(p=0.25, inplace=False)\n",
            "  (fc): Linear(in_features=16, out_features=22, bias=True)\n",
            "  (crf): CRF(num_tags=22)\n",
            ")\n",
            "10397\n"
          ]
        }
      ]
    },
    {
      "cell_type": "code",
      "metadata": {
        "id": "m4VvvZitP_D6",
        "outputId": "c8732a02-20d4-4d7c-fec6-2b5504340a1d",
        "colab": {
          "base_uri": "https://localhost:8080/"
        }
      },
      "source": [
        "def print_crf_transitions(c, m):\n",
        "    tags = c.tag_field.vocab.itos\n",
        "    max_len_tag = max([len(tag) for tag in tags])\n",
        "    print(\"Start and end tag transitions:\")\n",
        "    print(f\"{'TAG'.ljust(max_len_tag)}\\tSTART\\tEND\")\n",
        "    for tag, start_prob, end_prob in zip(tags, m.crf.start_transitions.tolist(), m.crf.end_transitions.tolist()):\n",
        "        print(f\"{tag.ljust(max_len_tag)}\\t{round(start_prob, 2)}\\t{round(end_prob, 2)}\")\n",
        "    print()\n",
        "    print(\"Between tags transitions:\")\n",
        "    persons_i = [i for i, tag in enumerate(c.tag_field.vocab.itos) if \"PERSON\" in tag or \"TIME\" in tag or tag == \"O\"]\n",
        "    max_len_tag = max([len(tag) for tag in c.tag_field.vocab.itos if \"PERSON\" in tag or \"TIME\" in tag])\n",
        "    transitions = m.crf.transitions\n",
        "    to_tags = \"TO\".rjust(max_len_tag) + \"\\t\" + \"\\t\".join([tag.ljust(max_len_tag) for tag in tags if \"PERSON\" in tag or \"TIME\" in tag or tag == \"O\"])\n",
        "    print(to_tags)\n",
        "    print(\"FROM\")\n",
        "    for from_tag_i, from_tag_probs in enumerate(transitions[persons_i]):\n",
        "        to_tag_str = f\"{tags[persons_i[from_tag_i]].ljust(max_len_tag)}\"\n",
        "        for to_tag_prob in from_tag_probs[persons_i]:\n",
        "            to_tag_str += f\"\\t{str(round(to_tag_prob.item(), 2)).ljust(max_len_tag)}\"\n",
        "        print(to_tag_str)\n",
        "\n",
        "print_crf_transitions(corpus, bilstm)"
      ],
      "execution_count": 36,
      "outputs": [
        {
          "output_type": "stream",
          "name": "stdout",
          "text": [
            "Start and end tag transitions:\n",
            "TAG           \tSTART\tEND\n",
            "<pad>         \t-100.0\t-0.06\n",
            "O             \t0.06\t0.13\n",
            "U-ORGANIZATION\t0.11\t-0.02\n",
            "U-PERSON      \t-0.01\t0.17\n",
            "U-LOCATION    \t0.09\t0.15\n",
            "B-PERSON      \t-0.09\t-100.0\n",
            "L-PERSON      \t-100.0\t-0.1\n",
            "B-ORGANIZATION\t0.04\t-100.0\n",
            "L-ORGANIZATION\t-100.0\t-0.02\n",
            "I-ORGANIZATION\t-100.0\t-100.0\n",
            "B-LOCATION    \t0.07\t-100.0\n",
            "L-LOCATION    \t-100.0\t0.03\n",
            "I-TIME        \t-100.0\t-100.0\n",
            "B-QUANTITY    \t0.02\t-100.0\n",
            "L-QUANTITY    \t-100.0\t-0.09\n",
            "I-PERSON      \t-100.0\t-100.0\n",
            "I-QUANTITY    \t-100.0\t-100.0\n",
            "I-LOCATION    \t-100.0\t-100.0\n",
            "B-TIME        \t0.13\t-100.0\n",
            "L-TIME        \t-100.0\t0.04\n",
            "U-TIME        \t0.18\t0.05\n",
            "U-QUANTITY    \t0.0\t0.1\n",
            "\n",
            "Between tags transitions:\n",
            "      TO\tO       \tU-PERSON\tB-PERSON\tL-PERSON\tI-TIME  \tI-PERSON\tB-TIME  \tL-TIME  \tU-TIME  \n",
            "FROM\n",
            "O       \t-0.09   \t-0.11   \t0.05    \t-100.0  \t-100.0  \t-100.0  \t0.03    \t-100.0  \t0.06    \n",
            "U-PERSON\t0.01    \t-0.06   \t-0.01   \t-100.0  \t-100.0  \t-100.0  \t-0.16   \t-100.0  \t0.12    \n",
            "B-PERSON\t-100.0  \t-100.0  \t-100.0  \t0.12    \t-100.0  \t-0.17   \t-100.0  \t-100.0  \t-100.0  \n",
            "L-PERSON\t-0.01   \t0.2     \t0.08    \t-100.0  \t-100.0  \t-100.0  \t0.02    \t-100.0  \t0.04    \n",
            "I-TIME  \t-100.0  \t-100.0  \t-100.0  \t-100.0  \t-0.01   \t-100.0  \t-100.0  \t-0.07   \t-100.0  \n",
            "I-PERSON\t-100.0  \t-100.0  \t-100.0  \t-0.1    \t-100.0  \t0.01    \t-100.0  \t-100.0  \t-100.0  \n",
            "B-TIME  \t-100.0  \t-100.0  \t-100.0  \t-100.0  \t-0.08   \t-100.0  \t-100.0  \t0.17    \t-100.0  \n",
            "L-TIME  \t0.01    \t0.02    \t-0.04   \t-100.0  \t-100.0  \t-100.0  \t-0.13   \t-100.0  \t0.0     \n",
            "U-TIME  \t0.07    \t0.11    \t0.05    \t-100.0  \t-100.0  \t-100.0  \t-0.13   \t-100.0  \t-0.03   \n"
          ]
        }
      ]
    },
    {
      "cell_type": "code",
      "metadata": {
        "id": "v5lafrBE39Xq"
      },
      "source": [
        "class NER(object):\n",
        "\n",
        "  def __init__(self, model, data, optimizer_cls, loss_fn_cls):\n",
        "    self.model = model\n",
        "    self.data = data\n",
        "    self.optimizer = optimizer_cls(model.parameters())\n",
        "    self.loss_fn = loss_fn_cls(ignore_index=self.data.tag_pad_idx)\n",
        "\n",
        "  @staticmethod\n",
        "  def epoch_time(start_time, end_time):\n",
        "    elapsed_time = end_time - start_time\n",
        "    elapsed_mins = int(elapsed_time / 60)\n",
        "    elapsed_secs = int(elapsed_time - (elapsed_mins * 60))\n",
        "    return elapsed_mins, elapsed_secs\n",
        "\n",
        "  def accuracy(self, preds, y):\n",
        "    max_preds = preds.argmax(dim=1, keepdim=True) \n",
        "    non_pad_elements = (y != self.data.tag_pad_idx).nonzero() \n",
        "    correct = max_preds[non_pad_elements].squeeze(1).eq(y[non_pad_elements])\n",
        "    return correct.sum() / torch.FloatTensor([y[non_pad_elements].shape[0]])\n",
        "\n",
        "  def epoch(self):\n",
        "      epoch_loss = 0\n",
        "      epoch_acc = 0\n",
        "      self.model.train()\n",
        "      for batch in self.data.train_iter:\n",
        "        text = batch.word\n",
        "        true_tags = batch.tag\n",
        "        self.optimizer.zero_grad()\n",
        "        pred_tags = self.model(text)\n",
        "        pred_tags = pred_tags.view(-1, pred_tags.shape[-1])\n",
        "        true_tags = true_tags.view(-1)\n",
        "        batch_loss = self.loss_fn(pred_tags, true_tags)\n",
        "        batch_acc = self.accuracy(pred_tags, true_tags)\n",
        "        print\n",
        "        batch_loss.backward()\n",
        "        self.optimizer.step()\n",
        "        epoch_loss += batch_loss.item()\n",
        "        epoch_acc += batch_acc.item()\n",
        "      return epoch_loss / len(self.data.train_iter), epoch_acc / len(self.data.train_iter)\n",
        "\n",
        "  def evaluate(self, iterator):\n",
        "      epoch_loss = 0\n",
        "      epoch_acc = 0\n",
        "      self.model.eval()\n",
        "      with torch.no_grad():\n",
        "\n",
        "          for batch in iterator:\n",
        "              text = batch.word\n",
        "              true_tags = batch.tag\n",
        "              pred_tags = self.model(text)\n",
        "              pred_tags = pred_tags.view(-1, pred_tags.shape[-1])\n",
        "              true_tags = true_tags.view(-1)\n",
        "              batch_loss = self.loss_fn(pred_tags, true_tags)\n",
        "              batch_acc = self.accuracy(pred_tags, true_tags)\n",
        "              epoch_loss += batch_loss.item()\n",
        "              epoch_acc += batch_acc.item()\n",
        "      return epoch_loss / len(iterator), epoch_acc / len(iterator)\n",
        "\n",
        "  ### BEGIN MODIFIED SECTION: EXPERIMENT ###\n",
        "  def train(self, n_epochs):\n",
        "        history = {\n",
        "            \"num_params\": self.model.count_parameters(),\n",
        "            \"train_loss\": [],\n",
        "            \"train_f1\": [],\n",
        "            \"val_loss\": [],\n",
        "            \"val_f1\": [],\n",
        "        }\n",
        "        elapsed_train_time = 0\n",
        "        for epoch in range(n_epochs):\n",
        "            start_time = time.time()\n",
        "            train_loss, train_f1 = self.epoch()\n",
        "            end_time = time.time()\n",
        "            elapsed_train_time += end_time - start_time\n",
        "            history[\"train_loss\"].append(train_loss)\n",
        "            history[\"train_f1\"].append(train_f1)\n",
        "            val_loss, val_f1 = self.evaluate(self.data.val_iter)\n",
        "            history[\"val_loss\"].append(val_loss)\n",
        "            history[\"val_f1\"].append(val_f1)\n",
        "        test_loss, test_f1 = self.evaluate(self.data.test_iter)\n",
        "        history[\"test_loss\"] = test_loss\n",
        "        history[\"test_f1\"] = test_f1\n",
        "        history[\"elapsed_train_time\"] = elapsed_train_time\n",
        "        return history\n",
        "    ### END MODIFIED SECTION ###\n",
        "  "
      ],
      "execution_count": 122,
      "outputs": []
    },
    {
      "cell_type": "code",
      "metadata": {
        "id": "k_Hi30VihCsy",
        "outputId": "778a605e-13d9-41db-9534-fdc1c658ac77",
        "colab": {
          "base_uri": "https://localhost:8080/"
        }
      },
      "source": [
        "print_crf_transitions(corpus, bilstm)"
      ],
      "execution_count": 123,
      "outputs": [
        {
          "output_type": "stream",
          "name": "stdout",
          "text": [
            "Start and end tag transitions:\n",
            "TAG           \tSTART\tEND\n",
            "<pad>         \t-100.0\t-0.06\n",
            "O             \t0.06\t0.13\n",
            "U-ORGANIZATION\t0.11\t-0.02\n",
            "U-PERSON      \t-0.01\t0.17\n",
            "U-LOCATION    \t0.09\t0.15\n",
            "B-PERSON      \t-0.09\t-100.0\n",
            "L-PERSON      \t-100.0\t-0.1\n",
            "B-ORGANIZATION\t0.04\t-100.0\n",
            "L-ORGANIZATION\t-100.0\t-0.02\n",
            "I-ORGANIZATION\t-100.0\t-100.0\n",
            "B-LOCATION    \t0.07\t-100.0\n",
            "L-LOCATION    \t-100.0\t0.03\n",
            "I-TIME        \t-100.0\t-100.0\n",
            "B-QUANTITY    \t0.02\t-100.0\n",
            "L-QUANTITY    \t-100.0\t-0.09\n",
            "I-PERSON      \t-100.0\t-100.0\n",
            "I-QUANTITY    \t-100.0\t-100.0\n",
            "I-LOCATION    \t-100.0\t-100.0\n",
            "B-TIME        \t0.13\t-100.0\n",
            "L-TIME        \t-100.0\t0.04\n",
            "U-TIME        \t0.18\t0.05\n",
            "U-QUANTITY    \t0.0\t0.1\n",
            "\n",
            "Between tags transitions:\n",
            "      TO\tO       \tU-PERSON\tB-PERSON\tL-PERSON\tI-TIME  \tI-PERSON\tB-TIME  \tL-TIME  \tU-TIME  \n",
            "FROM\n",
            "O       \t-0.09   \t-0.11   \t0.05    \t-100.0  \t-100.0  \t-100.0  \t0.03    \t-100.0  \t0.06    \n",
            "U-PERSON\t0.01    \t-0.06   \t-0.01   \t-100.0  \t-100.0  \t-100.0  \t-0.16   \t-100.0  \t0.12    \n",
            "B-PERSON\t-100.0  \t-100.0  \t-100.0  \t0.12    \t-100.0  \t-0.17   \t-100.0  \t-100.0  \t-100.0  \n",
            "L-PERSON\t-0.01   \t0.2     \t0.08    \t-100.0  \t-100.0  \t-100.0  \t0.02    \t-100.0  \t0.04    \n",
            "I-TIME  \t-100.0  \t-100.0  \t-100.0  \t-100.0  \t-0.01   \t-100.0  \t-100.0  \t-0.07   \t-100.0  \n",
            "I-PERSON\t-100.0  \t-100.0  \t-100.0  \t-0.1    \t-100.0  \t0.01    \t-100.0  \t-100.0  \t-100.0  \n",
            "B-TIME  \t-100.0  \t-100.0  \t-100.0  \t-100.0  \t-0.08   \t-100.0  \t-100.0  \t0.17    \t-100.0  \n",
            "L-TIME  \t0.01    \t0.02    \t-0.04   \t-100.0  \t-100.0  \t-100.0  \t-0.13   \t-100.0  \t0.0     \n",
            "U-TIME  \t0.07    \t0.11    \t0.05    \t-100.0  \t-100.0  \t-100.0  \t-0.13   \t-100.0  \t-0.03   \n"
          ]
        }
      ]
    },
    {
      "cell_type": "code",
      "metadata": {
        "id": "7XDgVHTBan4h"
      },
      "source": [
        "# configurations building block\n",
        "\n",
        "base = {\n",
        "    \"input_dim\": len(corpus.word_field.vocab),\n",
        "    \"output_dim\":len(corpus.tag_field.vocab),\n",
        "    \"word_pad_idx\": corpus.word_pad_idx,\n",
        "    \"tag_pad_idx\": corpus.tag_pad_idx\n",
        "}\n",
        "configs = {\n",
        "    \"bilstm\": base\n",
        "}"
      ],
      "execution_count": 124,
      "outputs": []
    },
    {
      "cell_type": "code",
      "metadata": {
        "id": "9ZFxhTsxa4Zo",
        "outputId": "b877bbfb-d6fe-45bb-849f-d3c2f55ec8eb",
        "colab": {
          "base_uri": "https://localhost:8080/"
        }
      },
      "source": [
        "num_epochs = 10\n",
        "histories = {}\n",
        "for model_name in configs:\n",
        "    print(f\"Start Training: {model_name}\")\n",
        "    ner = NER(\n",
        "      model=bilstm,\n",
        "      data=corpus,\n",
        "      optimizer_cls=Adam,\n",
        "      loss_fn_cls=nn.CrossEntropyLoss\n",
        "    )\n",
        "    histories[model_name] = ner.train(num_epochs)\n",
        "    print(f\"Done Training: {model_name}\")\n",
        "    print()"
      ],
      "execution_count": 125,
      "outputs": [
        {
          "output_type": "stream",
          "name": "stdout",
          "text": [
            "Start Training: bilstm\n",
            "Done Training: bilstm\n",
            "\n"
          ]
        }
      ]
    },
    {
      "cell_type": "code",
      "metadata": {
        "id": "Adr9wbm9el3V",
        "outputId": "2e59004e-c209-499b-ca3e-5f6b6d60f746",
        "colab": {
          "base_uri": "https://localhost:8080/"
        }
      },
      "source": [
        "max_len_model_name = max([len(m) for m in histories])\n",
        "print(f\"{'MODEL NAME'.ljust(max_len_model_name)}\\t{'NUM PARAMS'.ljust(10)}\\tTRAINING TIME\")\n",
        "for model_name, history in histories.items():\n",
        "  print(f\"{model_name.ljust(max_len_model_name)}\\t{history['num_params']:,}\\t{int(history['elapsed_train_time']//60)}m {int(history['elapsed_train_time'] % 60)}s\")"
      ],
      "execution_count": 126,
      "outputs": [
        {
          "output_type": "stream",
          "name": "stdout",
          "text": [
            "MODEL NAME\tNUM PARAMS\tTRAINING TIME\n",
            "bilstm\t106,152\t0m 28s\n"
          ]
        }
      ]
    },
    {
      "cell_type": "code",
      "metadata": {
        "id": "iK8Oi5FomELH"
      },
      "source": [
        "import matplotlib.pyplot as plt"
      ],
      "execution_count": 131,
      "outputs": []
    },
    {
      "cell_type": "code",
      "metadata": {
        "id": "eGWcM9LchxT5",
        "outputId": "1fd1a009-9588-4578-82c3-d10abbaf3f8d",
        "colab": {
          "base_uri": "https://localhost:8080/",
          "height": 730
        }
      },
      "source": [
        "epochs = [i+1 for i in range(10)]\n",
        "\n",
        "val_loss = histories[\"bilstm\"][\"val_loss\"]\n",
        "\n",
        "fig, axs = plt.subplots(2, 1, figsize=(15, 12))\n",
        "for model_name in histories:\n",
        "    axs[0].plot(epochs, histories[model_name][\"val_loss\"], label=model_name)\n",
        "    axs[1].plot(epochs, histories[model_name][\"val_f1\"], label=model_name)\n",
        "_ = axs[0].set_title(\"Val Loss\")\n",
        "_ = axs[1].set_title(\"Val F1\")\n",
        "_ = axs[1].set_xlabel(\"epochs\")\n",
        "_ = axs[0].set_ylabel(\"loss\")\n",
        "_ = axs[1].set_ylabel(\"F1\")\n",
        "_ = axs[0].legend(loc=\"upper right\")\n",
        "_ = axs[1].legend(loc=\"lower right\")"
      ],
      "execution_count": 137,
      "outputs": [
        {
          "output_type": "display_data",
          "data": {
            "image/png": "[encoded data removed]",
            "text/plain": [
              "<Figure size 1080x864 with 2 Axes>"
            ]
          },
          "metadata": {
            "needs_background": "light"
          }
        }
      ]
    },
    {
      "cell_type": "code",
      "metadata": {
        "id": "MIKuoBt9nAxe",
        "outputId": "19c0ee8a-c251-4c3f-d2f1-f5c0a8275e9e",
        "colab": {
          "base_uri": "https://localhost:8080/",
          "height": 281
        }
      },
      "source": [
        "model_test_f1 = [(m, histories[m][\"test_f1\"]) for m in histories]\n",
        "model_test_f1_sorted = sorted(model_test_f1, key=lambda m: m[1])\n",
        "model_names = [m[0] for m in model_test_f1_sorted]\n",
        "y_pos = list(range(len(model_names)))\n",
        "f1_scores = [m[1] for m in model_test_f1_sorted]\n",
        "fig, ax = plt.subplots()\n",
        "_ = ax.barh(y_pos, f1_scores, align='center')\n",
        "_ = ax.set_yticks(y_pos)\n",
        "_ = ax.set_yticklabels(model_names)\n",
        "_ = ax.set_title(\"Test F1\")"
      ],
      "execution_count": 138,
      "outputs": [
        {
          "output_type": "display_data",
          "data": {
            "image/png": "[encoded data removed]",
            "text/plain": [
              "<Figure size 432x288 with 1 Axes>"
            ]
          },
          "metadata": {
            "needs_background": "light"
          }
        }
      ]
    }
  ]
}