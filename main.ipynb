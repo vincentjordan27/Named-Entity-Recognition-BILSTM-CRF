{
  "nbformat": 4,
  "nbformat_minor": 0,
  "metadata": {
    "colab": {
      "name": "main.ipynb",
      "provenance": [],
      "collapsed_sections": [],
      "include_colab_link": true
    },
    "kernelspec": {
      "name": "python3",
      "display_name": "Python 3"
    },
    "language_info": {
      "name": "python"
    }
  },
  "cells": [
    {
      "cell_type": "markdown",
      "metadata": {
        "id": "view-in-github",
        "colab_type": "text"
      },
      "source": [
        "<a href=\"https://colab.research.google.com/github/vincentjordan27/Named-Entity-Recognition-BILSTM-CRF/blob/main/main.ipynb\" target=\"_parent\"><img src=\"https://colab.research.google.com/assets/colab-badge.svg\" alt=\"Open In Colab\"/></a>"
      ]
    },
    {
      "cell_type": "code",
      "metadata": {
        "id": "4zdcbTMiY9pR"
      },
      "source": [
        "import pandas as pd\n",
        "import numpy as np\n",
        "import sys\n",
        "import csv\n",
        "from sklearn.model_selection import train_test_split\n",
        "from torch.utils.data import DataLoader\n",
        "\n",
        "\n"
      ],
      "execution_count": null,
      "outputs": []
    },
    {
      "cell_type": "code",
      "metadata": {
        "id": "1e8gd5PtmKMV",
        "colab": {
          "base_uri": "https://localhost:8080/"
        },
        "outputId": "5a24f399-8ea6-41d0-9c90-3391a4bcb048"
      },
      "source": [
        "from google.colab import drive\n",
        "drive.mount('/content/drive')"
      ],
      "execution_count": null,
      "outputs": [
        {
          "output_type": "stream",
          "name": "stdout",
          "text": [
            "Mounted at /content/drive\n"
          ]
        }
      ]
    },
    {
      "cell_type": "code",
      "metadata": {
        "id": "Ok6N_p_Cqav-",
        "colab": {
          "base_uri": "https://localhost:8080/"
        },
        "outputId": "4070dace-7478-43af-f0f6-f9fb7f6e179d"
      },
      "source": [
        "!pip install torchtext==0.6.0\n",
        "\n",
        "import time\n",
        "import torch\n",
        "from torch import nn\n",
        "from torch.optim import Adam\n",
        "from torchtext.data import Field, BucketIterator\n",
        "from torchtext.datasets import SequenceTaggingDataset\n",
        "from spacy.lang.id import Indonesian"
      ],
      "execution_count": null,
      "outputs": [
        {
          "output_type": "stream",
          "name": "stdout",
          "text": [
            "Collecting torchtext==0.6.0\n",
            "  Downloading torchtext-0.6.0-py3-none-any.whl (64 kB)\n",
            "\u001b[?25l\r\u001b[K     |█████                           | 10 kB 25.2 MB/s eta 0:00:01\r\u001b[K     |██████████▏                     | 20 kB 29.4 MB/s eta 0:00:01\r\u001b[K     |███████████████▎                | 30 kB 30.8 MB/s eta 0:00:01\r\u001b[K     |████████████████████▍           | 40 kB 33.9 MB/s eta 0:00:01\r\u001b[K     |█████████████████████████▌      | 51 kB 36.7 MB/s eta 0:00:01\r\u001b[K     |██████████████████████████████▋ | 61 kB 35.6 MB/s eta 0:00:01\r\u001b[K     |████████████████████████████████| 64 kB 2.7 MB/s \n",
            "\u001b[?25hRequirement already satisfied: torch in /usr/local/lib/python3.7/dist-packages (from torchtext==0.6.0) (1.10.0+cu111)\n",
            "Requirement already satisfied: requests in /usr/local/lib/python3.7/dist-packages (from torchtext==0.6.0) (2.23.0)\n",
            "Requirement already satisfied: six in /usr/local/lib/python3.7/dist-packages (from torchtext==0.6.0) (1.15.0)\n",
            "Collecting sentencepiece\n",
            "  Downloading sentencepiece-0.1.96-cp37-cp37m-manylinux_2_17_x86_64.manylinux2014_x86_64.whl (1.2 MB)\n",
            "\u001b[K     |████████████████████████████████| 1.2 MB 42.5 MB/s \n",
            "\u001b[?25hRequirement already satisfied: tqdm in /usr/local/lib/python3.7/dist-packages (from torchtext==0.6.0) (4.62.3)\n",
            "Requirement already satisfied: numpy in /usr/local/lib/python3.7/dist-packages (from torchtext==0.6.0) (1.19.5)\n",
            "Requirement already satisfied: idna<3,>=2.5 in /usr/local/lib/python3.7/dist-packages (from requests->torchtext==0.6.0) (2.10)\n",
            "Requirement already satisfied: urllib3!=1.25.0,!=1.25.1,<1.26,>=1.21.1 in /usr/local/lib/python3.7/dist-packages (from requests->torchtext==0.6.0) (1.24.3)\n",
            "Requirement already satisfied: chardet<4,>=3.0.2 in /usr/local/lib/python3.7/dist-packages (from requests->torchtext==0.6.0) (3.0.4)\n",
            "Requirement already satisfied: certifi>=2017.4.17 in /usr/local/lib/python3.7/dist-packages (from requests->torchtext==0.6.0) (2021.10.8)\n",
            "Requirement already satisfied: typing-extensions in /usr/local/lib/python3.7/dist-packages (from torch->torchtext==0.6.0) (3.10.0.2)\n",
            "Installing collected packages: sentencepiece, torchtext\n",
            "  Attempting uninstall: torchtext\n",
            "    Found existing installation: torchtext 0.11.0\n",
            "    Uninstalling torchtext-0.11.0:\n",
            "      Successfully uninstalled torchtext-0.11.0\n",
            "Successfully installed sentencepiece-0.1.96 torchtext-0.6.0\n"
          ]
        }
      ]
    },
    {
      "cell_type": "code",
      "metadata": {
        "id": "s-aVwuped655"
      },
      "source": [
        "class Corpus(object):\n",
        "\n",
        "  def __init__(self, input_folder, min_word_freq, batch_size):\n",
        "    self.word_field = Field(lower=True)\n",
        "    self.tag_field = Field(unk_token=None)\n",
        "    self.train_dataset, self.val_dataset, self.test_dataset = SequenceTaggingDataset.splits(\n",
        "        path=input_folder,\n",
        "        train=\"train.tsv\",\n",
        "        validation=\"val.tsv\",\n",
        "        test=\"test.tsv\",\n",
        "        fields=((\"word\", self.word_field), (\"tag\", self.tag_field))\n",
        "    )\n",
        "    self.word_field.build_vocab(self.train_dataset.word, min_freq=min_word_freq)\n",
        "    self.tag_field.build_vocab(self.train_dataset.tag)\n",
        "\n",
        "    self.train_iter, self.val_iter, self.test_iter = BucketIterator.splits(\n",
        "        datasets=(self.train_dataset, self.val_dataset, self.test_dataset),\n",
        "        batch_size=batch_size\n",
        "    )\n",
        "    self.word_pad_idx = self.word_field.vocab.stoi[self.word_field.pad_token]\n",
        "    self.tag_pad_idx = self.tag_field.vocab.stoi[self.tag_field.pad_token]\n",
        "    "
      ],
      "execution_count": null,
      "outputs": []
    },
    {
      "cell_type": "code",
      "metadata": {
        "colab": {
          "base_uri": "https://localhost:8080/"
        },
        "id": "tXTM9VSuCWol",
        "outputId": "3bb099c0-00b3-4a70-8619-bba09102108f"
      },
      "source": [
        "\n",
        "corpus = Corpus(\n",
        "    input_folder=\"/content/drive/My Drive/Colab Notebooks/\",\n",
        "    min_word_freq=1, \n",
        "    batch_size=64,\n",
        ")\n",
        "print(f\"Train set: {len(corpus.train_dataset)} kata\")\n",
        "print(f\"Val set: {len(corpus.val_dataset)} kata\")\n",
        "print(f\"Test set: {len(corpus.test_dataset)} kata\")"
      ],
      "execution_count": null,
      "outputs": [
        {
          "output_type": "stream",
          "name": "stdout",
          "text": [
            "Train set: 3535 kata\n",
            "Val set: 470 kata\n",
            "Test set: 468 kata\n"
          ]
        }
      ]
    },
    {
      "cell_type": "code",
      "metadata": {
        "id": "btyPf6qTlGbU"
      },
      "source": [
        "class BiLSTM(nn.Module):\n",
        "\n",
        "  def __init__(self, input_dim, embedding_dim, hidden_dim, output_dim, lstm_layers,\n",
        "               emb_dropout, lstm_dropout, fc_dropout, word_pad_idx):\n",
        "    super().__init__()\n",
        "    self.embedding_dim = embedding_dim\n",
        "    self.embedding = nn.Embedding(\n",
        "        num_embeddings=input_dim, \n",
        "        embedding_dim=embedding_dim, \n",
        "        padding_idx=word_pad_idx\n",
        "    )\n",
        "    self.emb_dropout = nn.Dropout(emb_dropout)\n",
        "    self.lstm = nn.LSTM(\n",
        "        input_size=embedding_dim,\n",
        "        hidden_size=hidden_dim,\n",
        "        num_layers=lstm_layers,\n",
        "        bidirectional=True,\n",
        "        dropout=lstm_dropout if lstm_layers > 1 else 0\n",
        "    )\n",
        "    self.fc_dropout = nn.Dropout(fc_dropout)\n",
        "    self.fc = nn.Linear(hidden_dim * 2, output_dim)  \n",
        "\n",
        "  def forward(self, sentence):\n",
        "    embedding_out = self.emb_dropout(self.embedding(sentence))\n",
        "    lstm_out, _ = self.lstm(embedding_out)\n",
        "    ner_out = self.fc(self.fc_dropout(lstm_out))\n",
        "    return ner_out\n",
        "\n",
        "  def init_weights(self):\n",
        "    for name, param in self.named_parameters():\n",
        "      nn.init.normal_(param.data, mean=0, std=0.1)\n",
        "\n",
        "  def init_embeddings(self, word_pad_idx):\n",
        "    self.embedding.weight.data[word_pad_idx] = torch.zeros(self.embedding_dim)\n",
        "\n",
        "  def count_parameters(self):\n",
        "    return sum(p.numel() for p in self.parameters() if p.requires_grad)"
      ],
      "execution_count": null,
      "outputs": []
    },
    {
      "cell_type": "code",
      "metadata": {
        "colab": {
          "base_uri": "https://localhost:8080/"
        },
        "id": "GbDMTLsg36rF",
        "outputId": "4b6dfa07-b4ef-4772-9e08-1c54226dff5d"
      },
      "source": [
        "bilstm = BiLSTM(\n",
        "    input_dim=len(corpus.word_field.vocab),\n",
        "    embedding_dim=10,\n",
        "    hidden_dim=8,\n",
        "    output_dim=len(corpus.tag_field.vocab),\n",
        "    lstm_layers=1,\n",
        "    emb_dropout=0.5,\n",
        "    lstm_dropout=0.1,\n",
        "    fc_dropout=0.25,\n",
        "    word_pad_idx=corpus.word_pad_idx\n",
        ")\n",
        "bilstm.init_weights()\n",
        "bilstm.init_embeddings(word_pad_idx=corpus.word_pad_idx)\n",
        "print(f\"The model has {bilstm.count_parameters():,} trainable parameters.\")\n",
        "print(bilstm)\n",
        "print(len(corpus.word_field.vocab))"
      ],
      "execution_count": null,
      "outputs": [
        {
          "output_type": "stream",
          "name": "stdout",
          "text": [
            "The model has 105,624 trainable parameters.\n",
            "BiLSTM(\n",
            "  (embedding): Embedding(10397, 10, padding_idx=1)\n",
            "  (emb_dropout): Dropout(p=0.5, inplace=False)\n",
            "  (lstm): LSTM(10, 8, bidirectional=True)\n",
            "  (fc_dropout): Dropout(p=0.25, inplace=False)\n",
            "  (fc): Linear(in_features=16, out_features=22, bias=True)\n",
            ")\n",
            "10397\n"
          ]
        }
      ]
    },
    {
      "cell_type": "code",
      "metadata": {
        "id": "v5lafrBE39Xq"
      },
      "source": [
        "class NER(object):\n",
        "\n",
        "  def __init__(self, model, data, optimizer_cls, loss_fn_cls):\n",
        "    self.model = model\n",
        "    self.data = data\n",
        "    self.optimizer = optimizer_cls(model.parameters())\n",
        "    self.loss_fn = loss_fn_cls(ignore_index=self.data.tag_pad_idx)\n",
        "\n",
        "  @staticmethod\n",
        "  def epoch_time(start_time, end_time):\n",
        "    elapsed_time = end_time - start_time\n",
        "    elapsed_mins = int(elapsed_time / 60)\n",
        "    elapsed_secs = int(elapsed_time - (elapsed_mins * 60))\n",
        "    return elapsed_mins, elapsed_secs\n",
        "\n",
        "  def accuracy(self, preds, y):\n",
        "    max_preds = preds.argmax(dim=1, keepdim=True) \n",
        "    non_pad_elements = (y != self.data.tag_pad_idx).nonzero() \n",
        "    correct = max_preds[non_pad_elements].squeeze(1).eq(y[non_pad_elements])\n",
        "    return correct.sum() / torch.FloatTensor([y[non_pad_elements].shape[0]])\n",
        "\n",
        "  def epoch(self):\n",
        "      epoch_loss = 0\n",
        "      epoch_acc = 0\n",
        "      self.model.train()\n",
        "      for batch in self.data.train_iter:\n",
        "        text = batch.word\n",
        "        true_tags = batch.tag\n",
        "        self.optimizer.zero_grad()\n",
        "        pred_tags = self.model(text)\n",
        "        pred_tags = pred_tags.view(-1, pred_tags.shape[-1])\n",
        "        true_tags = true_tags.view(-1)\n",
        "        batch_loss = self.loss_fn(pred_tags, true_tags)\n",
        "        batch_acc = self.accuracy(pred_tags, true_tags)\n",
        "        print\n",
        "        batch_loss.backward()\n",
        "        self.optimizer.step()\n",
        "        epoch_loss += batch_loss.item()\n",
        "        epoch_acc += batch_acc.item()\n",
        "      return epoch_loss / len(self.data.train_iter), epoch_acc / len(self.data.train_iter)\n",
        "\n",
        "  def evaluate(self, iterator):\n",
        "      epoch_loss = 0\n",
        "      epoch_acc = 0\n",
        "      self.model.eval()\n",
        "      with torch.no_grad():\n",
        "\n",
        "          for batch in iterator:\n",
        "              text = batch.word\n",
        "              true_tags = batch.tag\n",
        "              pred_tags = self.model(text)\n",
        "              pred_tags = pred_tags.view(-1, pred_tags.shape[-1])\n",
        "              true_tags = true_tags.view(-1)\n",
        "              batch_loss = self.loss_fn(pred_tags, true_tags)\n",
        "              batch_acc = self.accuracy(pred_tags, true_tags)\n",
        "              epoch_loss += batch_loss.item()\n",
        "              epoch_acc += batch_acc.item()\n",
        "      return epoch_loss / len(iterator), epoch_acc / len(iterator)\n",
        "\n",
        "  def train(self, n_epochs):\n",
        "    for epoch in range(n_epochs):\n",
        "        start_time = time.time()\n",
        "        train_loss, train_acc = self.epoch()\n",
        "        end_time = time.time()\n",
        "        epoch_mins, epoch_secs = NER.epoch_time(start_time, end_time)\n",
        "        print(f\"Epoch: {epoch + 1:02} | Epoch Time: {epoch_mins}m {epoch_secs}s\")\n",
        "        print(f\"\\tTrn Loss: {train_loss:.3f} | Trn Acc: {train_acc * 100:.2f}%\")\n",
        "        val_loss, val_acc = self.evaluate(self.data.val_iter)\n",
        "        print(f\"\\tVal Loss: {val_loss:.3f} | Val Acc: {val_acc * 100:.2f}%\")\n",
        "    test_loss, test_acc = self.evaluate(self.data.test_iter)\n",
        "    print(f\"Test Loss: {test_loss:.3f} |  Test Acc: {test_acc * 100:.2f}%\")\n",
        "\n",
        "  "
      ],
      "execution_count": null,
      "outputs": []
    },
    {
      "cell_type": "code",
      "metadata": {
        "id": "IBl944AM4EX9",
        "colab": {
          "base_uri": "https://localhost:8080/"
        },
        "outputId": "888b5bf4-d389-4430-f04d-86a649713d19"
      },
      "source": [
        "ner = NER(\n",
        "  model=bilstm,\n",
        "  data=corpus,\n",
        "  optimizer_cls=Adam,\n",
        "  loss_fn_cls=nn.CrossEntropyLoss\n",
        ")\n",
        "ner.train(10)"
      ],
      "execution_count": null,
      "outputs": [
        {
          "output_type": "stream",
          "name": "stdout",
          "text": [
            "Epoch: 01 | Epoch Time: 0m 2s\n",
            "\tTrn Loss: 2.946 | Trn Acc: 38.52%\n",
            "\tVal Loss: 2.695 | Val Acc: 85.67%\n",
            "Epoch: 02 | Epoch Time: 0m 2s\n",
            "\tTrn Loss: 1.955 | Trn Acc: 83.03%\n",
            "\tVal Loss: 1.195 | Val Acc: 85.67%\n",
            "Epoch: 03 | Epoch Time: 0m 2s\n",
            "\tTrn Loss: 1.072 | Trn Acc: 83.08%\n",
            "\tVal Loss: 0.867 | Val Acc: 85.67%\n",
            "Epoch: 04 | Epoch Time: 0m 2s\n",
            "\tTrn Loss: 0.975 | Trn Acc: 83.11%\n",
            "\tVal Loss: 0.822 | Val Acc: 85.67%\n",
            "Epoch: 05 | Epoch Time: 0m 1s\n",
            "\tTrn Loss: 0.939 | Trn Acc: 83.21%\n",
            "\tVal Loss: 0.791 | Val Acc: 85.67%\n",
            "Epoch: 06 | Epoch Time: 0m 1s\n",
            "\tTrn Loss: 0.902 | Trn Acc: 83.09%\n",
            "\tVal Loss: 0.746 | Val Acc: 85.67%\n",
            "Epoch: 07 | Epoch Time: 0m 1s\n",
            "\tTrn Loss: 0.845 | Trn Acc: 83.02%\n",
            "\tVal Loss: 0.687 | Val Acc: 85.67%\n",
            "Epoch: 08 | Epoch Time: 0m 1s\n",
            "\tTrn Loss: 0.774 | Trn Acc: 83.07%\n",
            "\tVal Loss: 0.639 | Val Acc: 85.67%\n",
            "Epoch: 09 | Epoch Time: 0m 1s\n",
            "\tTrn Loss: 0.720 | Trn Acc: 83.07%\n",
            "\tVal Loss: 0.615 | Val Acc: 85.72%\n",
            "Epoch: 10 | Epoch Time: 0m 1s\n",
            "\tTrn Loss: 0.682 | Trn Acc: 83.19%\n",
            "\tVal Loss: 0.601 | Val Acc: 85.55%\n",
            "Test Loss: 0.658 |  Test Acc: 84.41%\n"
          ]
        }
      ]
    }
  ]
}